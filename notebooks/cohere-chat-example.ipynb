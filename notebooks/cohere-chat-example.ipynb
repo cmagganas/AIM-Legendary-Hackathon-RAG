{
 "cells": [
  {
   "cell_type": "code",
   "execution_count": 1,
   "metadata": {},
   "outputs": [],
   "source": [
    "import os\n",
    "import cohere\n",
    "from dotenv import load_dotenv\n",
    "load_dotenv()\n",
    "\n",
    "co = cohere.Client(os.environ['COHERE_API_KEY'])"
   ]
  },
  {
   "cell_type": "code",
   "execution_count": 2,
   "metadata": {},
   "outputs": [],
   "source": [
    "message = \"Hello World!\""
   ]
  },
  {
   "cell_type": "code",
   "execution_count": 3,
   "metadata": {},
   "outputs": [],
   "source": [
    "# https://docs.cohere.com/reference/chat\n",
    "response = co.chat(\n",
    "\tmessage, \n",
    "\tmodel=\"command\", \n",
    "\ttemperature=0.9\n",
    ")\n",
    "\n",
    "answer = response.text"
   ]
  },
  {
   "cell_type": "code",
   "execution_count": 4,
   "metadata": {},
   "outputs": [],
   "source": [
    "chat_history = [\n",
    "\t{\"user_name\": \"User\", \"text\": \"Hey!\"},\n",
    "\t{\"user_name\": \"Chatbot\", \"text\": \"Hey! How can I help you today?\"},\n",
    "]\n",
    "message = \"Can you tell me about LLMs?\"\n",
    "\n",
    "response = co.chat(\n",
    "\tmessage=message,\n",
    "\tchat_history=chat_history\n",
    ")\n",
    "\n",
    "answer = response.text"
   ]
  },
  {
   "cell_type": "code",
   "execution_count": null,
   "metadata": {},
   "outputs": [],
   "source": [
    "chat_history = []\n",
    "max_turns = 10\n",
    "\n",
    "for _ in range(max_turns):\n",
    "\t# get user input\n",
    "\tmessage = input(\"Send the model a message: \")\n",
    "\t\n",
    "\t# generate a response with the current chat history\n",
    "\tresponse = co.chat(\n",
    "\t\tmessage,\n",
    "\t\ttemperature=0.8,\n",
    "\t\tchat_history=chat_history\n",
    "\t)\n",
    "\tanswer = response.text\n",
    "\t\t\n",
    "\tprint(answer)\n",
    "\n",
    "\t# add message and answer to the chat history\n",
    "\tuser_message = {\"user_name\": \"User\", \"text\": message}\n",
    "\tbot_message = {\"user_name\": \"Chatbot\", \"text\": answer}\n",
    "\t\n",
    "\tchat_history.append(user_message)\n",
    "\tchat_history.append(bot_message)"
   ]
  }
 ],
 "metadata": {
  "kernelspec": {
   "display_name": "hackrag",
   "language": "python",
   "name": "python3"
  },
  "language_info": {
   "codemirror_mode": {
    "name": "ipython",
    "version": 3
   },
   "file_extension": ".py",
   "mimetype": "text/x-python",
   "name": "python",
   "nbconvert_exporter": "python",
   "pygments_lexer": "ipython3",
   "version": "3.11.5"
  }
 },
 "nbformat": 4,
 "nbformat_minor": 2
}
