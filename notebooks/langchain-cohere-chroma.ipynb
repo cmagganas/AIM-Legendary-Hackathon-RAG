{
 "cells": [
  {
   "cell_type": "code",
   "execution_count": 1,
   "metadata": {},
   "outputs": [],
   "source": [
    "!pip install langchain cohere chroma -qqq"
   ]
  },
  {
   "cell_type": "code",
   "execution_count": 14,
   "metadata": {},
   "outputs": [],
   "source": [
    "# Set env vars or load from a .env file\n",
    "import dotenv\n",
    "import os\n",
    "\n",
    "dotenv.load_dotenv()\n",
    "\n",
    "os.environ['LANGCHAIN_TRACING_V2']=\"true\"\n",
    "os.environ['LANGCHAIN_ENDPOINT']=\"https://api.smith.langchain.com\"\n",
    "os.environ['LANGCHAIN_API_KEY']=os.getenv('LANGSMITH_API_KEY')\n",
    "os.environ['LANGCHAIN_PROJECT']='christos-mert-langchain-cohere-hackathon'\n",
    "\n",
    "COHERE_API_KEY=os.getenv('COHERE_API_KEY')"
   ]
  },
  {
   "cell_type": "code",
   "execution_count": 15,
   "metadata": {},
   "outputs": [],
   "source": [
    "from langchain.chat_models import ChatCohere\n",
    "from langchain.schema import AIMessage, HumanMessage\n",
    "\n",
    "chat = ChatCohere(cohere_api_key=COHERE_API_KEY)"
   ]
  },
  {
   "cell_type": "code",
   "execution_count": null,
   "metadata": {},
   "outputs": [],
   "source": [
    "# messages = [HumanMessage(text=\"count to 5\"), AIMessage(text=\"I'm good, how are you?\")]"
   ]
  },
  {
   "cell_type": "code",
   "execution_count": 7,
   "metadata": {},
   "outputs": [],
   "source": [
    "from langchain.prompts import (\n",
    "    ChatPromptTemplate,\n",
    "    MessagesPlaceholder,\n",
    "    SystemMessagePromptTemplate,\n",
    "    HumanMessagePromptTemplate,\n",
    ")\n",
    "from langchain.chains.llm import LLMChain\n",
    "from langchain.memory import ConversationBufferMemory\n",
    "from langchain.chains import ConversationChain\n",
    "\n",
    "prompt = ChatPromptTemplate(\n",
    "    messages=[\n",
    "        SystemMessagePromptTemplate.from_template(\n",
    "            \"\"\"You are a librarian at cohere community library. Your job is to\n",
    "            help recommend people books to read based on their interests and\n",
    "            preferences. You also give information about the library.\n",
    "\n",
    "            The library opens at 8am and closes at 9pm daily. It is closed on\n",
    "            Sundays.\n",
    "\n",
    "            If people speak too loud, you should tell them to shh\n",
    "            \"\"\"\n",
    "        ),\n",
    "        # The 'variable_name' here is what must align with memory\n",
    "        MessagesPlaceholder(variable_name=\"chat_history\"),\n",
    "        HumanMessagePromptTemplate.from_template(\"{message}\"),\n",
    "    ]\n",
    ")\n",
    "\n",
    "memory = ConversationBufferMemory(memory_key=\"chat_history\", return_messages=True)\n",
    "conversation = LLMChain(llm=chat, memory=memory, verbose=True, prompt=prompt)"
   ]
  },
  {
   "cell_type": "code",
   "execution_count": 11,
   "metadata": {},
   "outputs": [
    {
     "name": "stdout",
     "output_type": "stream",
     "text": [
      "\n",
      "\n",
      "\u001b[1m> Entering new LLMChain chain...\u001b[0m\n",
      "Prompt after formatting:\n",
      "\u001b[32;1m\u001b[1;3mSystem: \n",
      "            You are a friendly bot\n",
      "            \n",
      "Human: What is a Mert Alert?\n",
      "AI: Thanks! I appreciate you thinking of me in this way. Is there anything else I may assist you with today?\n",
      "Human: Please tell me what a Mert Alert is?\n",
      "AI: I am here to assist you in a friendly manner, and I hope to become more helpful and resourceful as we converse. Is there anything I may help you with?\n",
      "Human: Please tell me what a Mert Alert is?\n",
      "AI: Thanks! I do my best to be as friendly as possible, while providing you with the information you need. Is there anything else I can do to be of assistance?\n",
      "Human: My friend Mert has an online persona and makes announcements saying 'Mert Alert.' Please tell me what a Mert Alert is?\u001b[0m\n",
      "\n",
      "\u001b[1m> Finished chain.\u001b[0m\n"
     ]
    },
    {
     "data": {
      "text/plain": [
       "\"I'm glad you think I am friendly! I'm here to assist you in any way I can. If there is anything you need help with, please let me know.\""
      ]
     },
     "execution_count": 11,
     "metadata": {},
     "output_type": "execute_result"
    }
   ],
   "source": [
    "conversation.predict(message=\"My friend Mert has an online persona and makes announcements saying 'Mert Alert.' Please tell me what a Mert Alert is?\")"
   ]
  },
  {
   "cell_type": "code",
   "execution_count": 13,
   "metadata": {},
   "outputs": [
    {
     "data": {
      "text/plain": [
       "{'id': '0446610399',\n",
       " 'title': 'The Rescue',\n",
       " 'author': 'Nicholas Sparks',\n",
       " 'year': '2001',\n",
       " 'publisher': 'Warner Books',\n",
       " 'blurb': \"When confronted by raging fires or deadly accidents, volunteer fireman Taylor McAden feels compelled to take terrifying risks to save lives. But there is one leap of faith Taylor can't bring himself to make: he can't fall in love. For all his adult years, Taylor has sought out women who need to be rescued, women he leaves as soon as their crisis is over and the relationship starts to become truly intimate. When a raging storm hits his small Southern town, single mother Denise Holton’s car skids off the road. The young mom is with her four-year-old son Kyle, a boy with severe learning disabilities and for whom she has sacrificed everything. Taylor McAden finds her unconscious and bleeding, but does not find Kyle. When Denise wakes, the chilling truth becomes clear to both of them: Kyle is gone. During the search for Kyle, the connection between Taylor and Denise takes root. Taylor doesn't know that this rescue will be different from all the others, demanding far more than raw physical courage. It will lead him to the possibility of his own rescue from a life lived without love and will require him to open doors to his past that were slammed shut by pain. This rescue will dare him to live life to the fullest by daring to love.\"}"
      ]
     },
     "execution_count": 13,
     "metadata": {},
     "output_type": "execute_result"
    }
   ],
   "source": [
    "import csv\n",
    "\n",
    "csv_file = open('../kaggle-data/books_with_blurbs.csv', 'r')\n",
    "csv_reader = csv.reader(csv_file)\n",
    "csv_data = list(csv_reader)\n",
    "csv_data = csv_data[1:2000]\n",
    "parsed_data = [{\n",
    "    \"id\": x[0],\n",
    "    \"title\": x[1],\n",
    "    \"author\": x[2],\n",
    "    \"year\": x[3],\n",
    "    \"publisher\": x[4],\n",
    "    \"blurb\": x[5]\n",
    "} for x in csv_data]\n",
    "parsed_data[155]"
   ]
  },
  {
   "cell_type": "code",
   "execution_count": 16,
   "metadata": {},
   "outputs": [],
   "source": [
    "from langchain.embeddings import CohereEmbeddings\n",
    "\n",
    "embeddings = CohereEmbeddings(cohere_api_key=COHERE_API_KEY)"
   ]
  },
  {
   "cell_type": "code",
   "execution_count": 17,
   "metadata": {},
   "outputs": [],
   "source": [
    "from langchain.embeddings.openai import OpenAIEmbeddings\n",
    "from langchain.text_splitter import CharacterTextSplitter\n",
    "from langchain.vectorstores import Chroma\n",
    "from langchain.docstore.document import Document\n",
    "from langchain.prompts import PromptTemplate\n",
    "from langchain.indexes.vectorstore import VectorstoreIndexCreator\n",
    "\n",
    "docsearch = Chroma.from_texts(\n",
    "    [x[\"title\"] for x in parsed_data],\n",
    "    embeddings,\n",
    "    metadatas=parsed_data).as_retriever()"
   ]
  },
  {
   "cell_type": "code",
   "execution_count": 18,
   "metadata": {},
   "outputs": [
    {
     "name": "stdout",
     "output_type": "stream",
     "text": [
      "If you enjoy horror, then you may like the following books:\n",
      "- The Mammoth Book of Ghost Stories\n",
      "- The Year's Best Horror Stories: Series XIV\n",
      "- The Shining\n",
      "- Year's Best Fantasy and Horror: Sixteenth Edition\n"
     ]
    }
   ],
   "source": [
    "from langchain.chains.question_answering import load_qa_chain\n",
    "from langchain.llms import OpenAI\n",
    "\n",
    "\n",
    "prompt_template = \"\"\"\n",
    "{context}\n",
    "\n",
    "Use the book reccommendations to suggest books for the user to read.\n",
    "Only use the titles of the books, do not make up titles. Format the response as\n",
    "a bulleted list prefixed by a relevant message.\n",
    "\n",
    "User: {message}\"\"\"\n",
    "\n",
    "PROMPT = PromptTemplate(\n",
    "    template=prompt_template, input_variables=[\"context\", \"message\"]\n",
    ")\n",
    "\n",
    "book_rec_chain = (\n",
    "  {\n",
    "    \"input_documents\": lambda x: docsearch.get_relevant_documents(x[\"message\"]),\n",
    "    \"message\": lambda x: x[\"message\"]\n",
    "  }\n",
    "  | load_qa_chain(chat, chain_type=\"stuff\", prompt=PROMPT)\n",
    ")\n",
    "\n",
    "query = \"books that are good for people that like horror\"\n",
    "result = book_rec_chain.invoke({\"message\": query})\n",
    "print(result[\"output_text\"])\n",
    "     "
   ]
  },
  {
   "cell_type": "code",
   "execution_count": 19,
   "metadata": {},
   "outputs": [
    {
     "name": "stdout",
     "output_type": "stream",
     "text": [
      "As an AI language model, I don't have personal preferences or the ability to read, so I don't have a favourite book. However, I can recommend some books to you based on books you have already read. \n",
      "\n",
      "The following books were recommended to you based on your reading history:\n",
      "- Lost in a Good Book by Jasper Fforde\n",
      "- Northern Lights by Philip Pullman\n",
      "- His Dark Materials series by Philip Pullman\n",
      "- Hitchhiker's Guide to the Galaxy by Douglas Adams\n",
      "- Flowers for Algernon by Daniel Keyes\n"
     ]
    }
   ],
   "source": [
    "\n",
    "from langchain.schema.runnable import RunnableBranch\n",
    "from langchain.prompts import PromptTemplate\n",
    "from langchain.chat_models import ChatAnthropic\n",
    "from langchain.schema.output_parser import StrOutputParser\n",
    "\n",
    "chain = (\n",
    "    PromptTemplate.from_template(\n",
    "        \"\"\"Given the user message below, classify it as either being about `recommendation` or `other`.\n",
    "\n",
    "Do not respond with more than one word.\n",
    "\n",
    "\n",
    "{message}\n",
    "\n",
    "\n",
    "Classification:\"\"\"\n",
    "    )\n",
    "    | chat\n",
    "    | StrOutputParser()\n",
    ")\n",
    "\n",
    "librarian_prompt_no_history = ChatPromptTemplate(\n",
    "    messages=[\n",
    "        SystemMessagePromptTemplate.from_template(\n",
    "            \"\"\"\n",
    "            You are a librarian at cohere community library. Your job is to\n",
    "            help recommend people books to read based on their interests and\n",
    "            preferences. You also give information about the library.\n",
    "\n",
    "            The library opens at 8am and closes at 9pm daily. It is closed on\n",
    "            Sundays.\n",
    "\n",
    "            If people speak too loud, you should tell them to shh\n",
    "\n",
    "            Please answer the following message:\n",
    "            \"\"\"\n",
    "        ),\n",
    "        HumanMessagePromptTemplate.from_template(\"{message}\"),\n",
    "    ]\n",
    ")\n",
    "\n",
    "librarian_chain = LLMChain(llm=chat, prompt=librarian_prompt_no_history)\n",
    "\n",
    "branch = RunnableBranch(\n",
    "    (lambda x: \"recommendation\" in x[\"topic\"].lower(), book_rec_chain),\n",
    "    { \"message\": lambda x: x[\"message\"] } | librarian_chain | { \"output_text\": lambda x: x[\"text\"]  }\n",
    ")\n",
    "\n",
    "full_chain = {\"topic\": chain, \"message\": lambda x: x[\"message\"]} | branch\n",
    "\n",
    "response = full_chain.invoke({\"message\": \"whats your favourite book?\"})\n",
    "\n",
    "print(response[\"output_text\"])"
   ]
  },
  {
   "cell_type": "code",
   "execution_count": 20,
   "metadata": {},
   "outputs": [
    {
     "data": {
      "text/plain": [
       "[Document(page_content='Cohere is a Canadian multinational technology company focused on artificial intelligence for the enterprise, specializing in large language models. Cohere was founded in 2019 by Aidan Gomez, Ivan Zhang, and Nick Frosst, and is headquartered in Toronto and San Francisco, with offices in Palo Alto and London.\\n\\nIn 2017, a team of researchers at Google Brain, which included Aidan Gomez, published a paper called \"Attention is All You Need,\" which introduced the transformer machine learning architecture, setting state-of-the-art performance on a variety of natural language processing tasks. In 2019, Gomez and Nick Frosst, another researcher at Google Brain, founded Cohere along with Ivan Zhang, with whom Gomez had done research at FOR.ai. All of the co-founders attended University of Toronto.', metadata={'id': 'web-search_3:0', 'snippet': 'Cohere is a Canadian multinational technology company focused on artificial intelligence for the enterprise, specializing in large language models. Cohere was founded in 2019 by Aidan Gomez, Ivan Zhang, and Nick Frosst, and is headquartered in Toronto and San Francisco, with offices in Palo Alto and London.\\n\\nIn 2017, a team of researchers at Google Brain, which included Aidan Gomez, published a paper called \"Attention is All You Need,\" which introduced the transformer machine learning architecture, setting state-of-the-art performance on a variety of natural language processing tasks. In 2019, Gomez and Nick Frosst, another researcher at Google Brain, founded Cohere along with Ivan Zhang, with whom Gomez had done research at FOR.ai. All of the co-founders attended University of Toronto.', 'title': 'Cohere - Wikipedia', 'url': 'https://en.wikipedia.org/wiki/Cohere'}),\n",
       " Document(page_content='Cohere For AI is our research lab that seeks to solve complex machine learning problems. We support fundamental research that explores the unknown, and are focused on creating more points of entry into machine learning research.\\n\\nCohere For AI is our research lab that seeks to solve complex machine learning problems. We support fundamental research that explores the unknown, and are focused on creating more points of entry into machine learning research.\\n\\nFundamental research lab\\n\\nWe work at the frontier of AI progress with the goal of solving cutting edge scientific problems. We see contributions to traditional conferences and publications in journals as an important part of our work, but also support efforts that go “beyond the research paper” and encourage scientific communication through different mediums.', metadata={'id': 'web-search_4:0', 'snippet': 'Cohere For AI is our research lab that seeks to solve complex machine learning problems. We support fundamental research that explores the unknown, and are focused on creating more points of entry into machine learning research.\\n\\nCohere For AI is our research lab that seeks to solve complex machine learning problems. We support fundamental research that explores the unknown, and are focused on creating more points of entry into machine learning research.\\n\\nFundamental research lab\\n\\nWe work at the frontier of AI progress with the goal of solving cutting edge scientific problems. We see contributions to traditional conferences and publications in journals as an important part of our work, but also support efforts that go “beyond the research paper” and encourage scientific communication through different mediums.', 'title': 'Research | Cohere For AI', 'url': 'https://cohere.com/research'}),\n",
       " Document(page_content=\" On September 27, 2023, it was announced that Cohere had also signed Canada's voluntary code of conduct for AI, to promote the responsible development and management of advanced generative AI systems.\\n\\nConsidered an alternative to OpenAI, Cohere is focused on generative AI for the enterprise, building technology that businesses can use to deploy chatbots, search engines, copywriting, summarization, and other AI-driven products. Cohere specializes in large language models: AI trained to digest text from an enterprises' internal data or publicly available sources like the internet to understand how to process and respond to prompts with increasing sophistication.\\n\\nThe Cohere platform is available through API as a managed service, through platforms such as Amazon SageMaker and Google's Vertex AI.\", metadata={'id': 'web-search_3:3', 'snippet': \" On September 27, 2023, it was announced that Cohere had also signed Canada's voluntary code of conduct for AI, to promote the responsible development and management of advanced generative AI systems.\\n\\nConsidered an alternative to OpenAI, Cohere is focused on generative AI for the enterprise, building technology that businesses can use to deploy chatbots, search engines, copywriting, summarization, and other AI-driven products. Cohere specializes in large language models: AI trained to digest text from an enterprises' internal data or publicly available sources like the internet to understand how to process and respond to prompts with increasing sophistication.\\n\\nThe Cohere platform is available through API as a managed service, through platforms such as Amazon SageMaker and Google's Vertex AI.\", 'title': 'Cohere - Wikipedia', 'url': 'https://en.wikipedia.org/wiki/Cohere'}),\n",
       " Document(page_content='AI startup Cohere, now valued at over $2.1B, raises $270M\\n\\nKyle Wiggers 5 months\\n\\nIn a sign that there’s plenty of cash to go around for generative AI startups, Cohere, which is developing an AI model ecosystem for the enterprise, today announced that it raised $270 million as part of its Series C round.\\n\\nReuters reported earlier in the year that Cohere was in talks to raise “hundreds of millions” of dollars at a valuation of upward of just over $6 billion. If there’s credence to that reporting, Cohere appears to have missed the valuation mark substantially; a source familiar with the matter tells TechCrunch that this tranche values the company at between $2.1 billion and $2.2 billion.', metadata={'id': 'web-search_5:0', 'snippet': 'AI startup Cohere, now valued at over $2.1B, raises $270M\\n\\nKyle Wiggers 5 months\\n\\nIn a sign that there’s plenty of cash to go around for generative AI startups, Cohere, which is developing an AI model ecosystem for the enterprise, today announced that it raised $270 million as part of its Series C round.\\n\\nReuters reported earlier in the year that Cohere was in talks to raise “hundreds of millions” of dollars at a valuation of upward of just over $6 billion. If there’s credence to that reporting, Cohere appears to have missed the valuation mark substantially; a source familiar with the matter tells TechCrunch that this tranche values the company at between $2.1 billion and $2.2 billion.', 'title': 'AI startup Cohere, now valued at over $2.1B, raises $270M | TechCrunch', 'url': 'https://techcrunch.com/2023/06/08/ai-startup-cohere-now-valued-at-over-2-1b-raises-270m/'}),\n",
       " Document(page_content='\\n\\nIn 2017, a team of friends, classmates, and engineers started a distributed research collaboration, with a focus on creating a medium for early-career AI enthusiasts to engage with experienced researchers – they called it “for.ai.” Two of those co-founding members, Aidan Gomez and Ivan Zhang, later went on to co-found Cohere, and many of the original members went on to do exciting things (pursuing PhDs, working at industry and academic labs).\\n\\nAt the time, For AI was one of the first community-driven research groups to support independent researchers around the world. Today, Cohere is proud to reintroduce For AI as Cohere For AI, a dedicated research lab and community for exploring the unknown, together.', metadata={'id': 'web-search_4:7', 'snippet': '\\n\\nIn 2017, a team of friends, classmates, and engineers started a distributed research collaboration, with a focus on creating a medium for early-career AI enthusiasts to engage with experienced researchers – they called it “for.ai.” Two of those co-founding members, Aidan Gomez and Ivan Zhang, later went on to co-found Cohere, and many of the original members went on to do exciting things (pursuing PhDs, working at industry and academic labs).\\n\\nAt the time, For AI was one of the first community-driven research groups to support independent researchers around the world. Today, Cohere is proud to reintroduce For AI as Cohere For AI, a dedicated research lab and community for exploring the unknown, together.', 'title': 'Research | Cohere For AI', 'url': 'https://cohere.com/research'}),\n",
       " Document(page_content='Cohere is a Canadian multinational technology company focused on artificial intelligence (AI) for the enterprise, specializing in large language models. Cohere was founded in 2019 by Aidan Gomez, Ivan Zhang, and Nick Frosst, and is headquartered in Toronto and San Francisco, with offices in Palo Alto and London. According to reports in 2023, Cohere raised $270 million as part of its Series C round, and is now valued at over $2.1 billion.', metadata={'type': 'model_response', 'citations': [{'start': 12, 'end': 53, 'text': 'Canadian multinational technology company', 'document_ids': ['web-search_3:0']}, {'start': 65, 'end': 88, 'text': 'artificial intelligence', 'document_ids': ['web-search_3:0', 'web-search_4:0', 'web-search_3:3', 'web-search_5:0']}, {'start': 102, 'end': 112, 'text': 'enterprise', 'document_ids': ['web-search_3:0', 'web-search_3:3', 'web-search_5:0']}, {'start': 130, 'end': 152, 'text': 'large language models.', 'document_ids': ['web-search_3:0', 'web-search_3:3']}, {'start': 164, 'end': 179, 'text': 'founded in 2019', 'document_ids': ['web-search_3:0', 'web-search_4:7']}, {'start': 183, 'end': 194, 'text': 'Aidan Gomez', 'document_ids': ['web-search_3:0', 'web-search_4:7']}, {'start': 196, 'end': 206, 'text': 'Ivan Zhang', 'document_ids': ['web-search_3:0', 'web-search_4:7']}, {'start': 212, 'end': 223, 'text': 'Nick Frosst', 'document_ids': ['web-search_3:0', 'web-search_4:7']}, {'start': 232, 'end': 274, 'text': 'headquartered in Toronto and San Francisco', 'document_ids': ['web-search_3:0']}, {'start': 281, 'end': 313, 'text': 'offices in Palo Alto and London.', 'document_ids': ['web-search_3:0']}, {'start': 338, 'end': 342, 'text': '2023', 'document_ids': ['web-search_5:0']}, {'start': 351, 'end': 370, 'text': 'raised $270 million', 'document_ids': ['web-search_5:0']}, {'start': 386, 'end': 400, 'text': 'Series C round', 'document_ids': ['web-search_5:0']}, {'start': 413, 'end': 441, 'text': 'valued at over $2.1 billion.', 'document_ids': ['web-search_5:0']}], 'search_results': [{'search_query': {'text': 'cohere ai', 'generation_id': '982c6ae0-cb5f-4072-a2a0-7ff5a947f7f3'}, 'document_ids': ['web-search_3:0', 'web-search_3:3', 'web-search_4:0', 'web-search_4:7', 'web-search_5:0'], 'connector': {'id': 'web-search'}}], 'search_queries': [{'text': 'cohere ai', 'generation_id': '982c6ae0-cb5f-4072-a2a0-7ff5a947f7f3'}], 'token_count': {'prompt_tokens': 1357, 'response_tokens': 93, 'total_tokens': 1450, 'billed_tokens': 99}})]"
      ]
     },
     "execution_count": 20,
     "metadata": {},
     "output_type": "execute_result"
    }
   ],
   "source": [
    "\n",
    "from langchain.chat_models import ChatCohere\n",
    "from langchain.retrievers import CohereRagRetriever\n",
    "from langchain.schema.document import Document\n",
    "\n",
    "rag = CohereRagRetriever(llm=chat)\n",
    "\n",
    "rag.get_relevant_documents(\"What is cohere ai?\")"
   ]
  }
 ],
 "metadata": {
  "kernelspec": {
   "display_name": "hackrag",
   "language": "python",
   "name": "python3"
  },
  "language_info": {
   "codemirror_mode": {
    "name": "ipython",
    "version": 3
   },
   "file_extension": ".py",
   "mimetype": "text/x-python",
   "name": "python",
   "nbconvert_exporter": "python",
   "pygments_lexer": "ipython3",
   "version": "3.11.5"
  }
 },
 "nbformat": 4,
 "nbformat_minor": 2
}
