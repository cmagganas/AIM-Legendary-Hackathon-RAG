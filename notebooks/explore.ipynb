{
 "cells": [
  {
   "cell_type": "code",
   "execution_count": 1,
   "id": "fc1b54ff",
   "metadata": {},
   "outputs": [],
   "source": []
  },
  {
   "cell_type": "code",
   "execution_count": 12,
   "id": "147a439e",
   "metadata": {},
    "# exploration of code with RAG"
   ]
  },
  {
   "cell_type": "code",
   "execution_count": 3,
   "id": "35c94760",
   "metadata": {},
   "outputs": [],
   "source": []
  },
  {
   "cell_type": "code",
   "execution_count": 25,
   "id": "40b33a2e",
   "metadata": {},
   "outputs": [],
   "source": [
    "# Set env var OPENAI_API_KEY or load from a .env file\n",
    "OPENAI_API_KEY = os.getenv(\"OPENAI_API_KEY\")"
   ]
  },
  {
   "cell_type": "code",
   "execution_count": 9,
   "metadata": {},
   "outputs": [],
   "source": []
  },
  {
   "cell_type": "code",
   "execution_count": 11,
   "id": "6ff640fe",
   "metadata": {},
   "outputs": [],
   "source": []
   },
   {
    "# Load\n",
    "GenericLoader.from_filesystem(\n",
    "    \"../langchain\" + \"/libs/langchain/langchain\",\n",
    "    glob=\"**/*\",\n",
    "    suffixes=[\".py\"],\n",
    "    parser=LanguageParser(language=Language.PYTHON, parser_threshold=250),\n",
    ")\n",
    ""
   ]
  },
  {
   "cell_type": "code",
   "execution_count": 12,
   "id": "147a439e",
   "metadata": {},
   "outputs": [],
   "source": []
   },
  },
  {
   "cell_type": "code",
   "execution_count": 13,
   "id": "b5beeace",
   "metadata": {},
   "outputs": [
    {
     "data": {
      "text/plain": [
       "5785"
      ]
     },
     "execution_count": 13,
     "metadata": {},
     "output_type": "execute_result"
    }
   ],
   "source": [
    "# Split\n",
    "from langchain.text_splitter import RecursiveCharacterTextSplitter\n",
    "\n",
    "RecursiveCharacterTextSplitter.from_language(\n",
    "    language=Language.PYTHON, chunk_size=2000, chunk_overlap=200\n",
    ")\n",
    ""
   ]
  },
  {
   "cell_type": "code",
   "execution_count": 14,
   "id": "e206e8ea",
   "metadata": {},
   "outputs": [],
   "source": []
  },
  {
   "cell_type": "code",
   "execution_count": 27,
   "id": "fd8a270e",
   "metadata": {},
   "outputs": [],
   "source": []
  },
  {
   "execution_count": 13,
   "id": "b5beeace",
   "metadata": {},
   "outputs": [],
   "source": []
  },
  {
   "cell_type": "code",
   "execution_count": 14,
   "id": "e206e8ea",
   "metadata": {},
   "outputs": [
    {
     "data": {
      "text/plain": [
       "Document(page_content='def _dump_generations_to_json(generations: RETURN_VAL_TYPE) -> str:\\n    \"\"\"Dump generations to json.\\n\\n    Args:\\n        generations (RETURN_VAL_TYPE): A list of language model generations.\\n\\n    Returns:\\n        str: Json representing a list of generations.\\n\\n    Warning: would not work well with arbitrary subclasses of `Generation`\\n    \"\"\"\\n    return json.dumps([generation.dict() for generation in generations])', metadata={'source': '../langchain/libs/langchain/langchain/cache.py', 'content_type': 'functions_classes', 'language': <Language.PYTHON: 'python'>})"
      ]
     },
     "execution_count": 14,
     "metadata": {},
     "output_type": "execute_result"
    }
   ],
   "source": [
    "texts[5]"
   ]
  },
  {
   "cell_type": "code",
   "execution_count": 27,
   "id": "fd8a270e",
   "metadata": {},
   "outputs": [],
   "source": []
   },
   {
    "  auth_client_secret=auth_config,\n",
    "from langchain.embeddings.openai import OpenAIEmbeddings\n",
    "from langchain.vectorstores import Weaviate\n",
    "\n",
    "embeddings = OpenAIEmbeddings()\n",
    "\n",
    "db = Weaviate.from_documents(\n",
    "    embeddings, \n",
    "    by_text=False\n",
    ")\n",
    "retriever = db.as_retriever(\n",
    "    search_type=\"mmr\",  # Also test \"similarity\"\n",
    "        \"X-OpenAI-Api-Key\": OPENAI_API_KEY  # Replace with your inference API key\n",
    "weaviate.Client(\n",
    "  url=WEAVIATE_URL,\n",
    "  auth_client_secret=weaviate.AuthApiKey(api_key=WEAVIATE_API_KEY),\n",
    "  additional_headers = {\n",
    "        \"X-OpenAI-Api-Key\": OPENAI_API_KEY  # Replace with your inference API key\n",
    "    }\n",
    ")"
   ]
  },
  {
    "  auth_client_secret=weaviate.AuthApiKey(api_key=WEAVIATE_API_KEY),\n",
    "  additional_headers = {\n",
    "        \"X-OpenAI-Api-Key\": OPENAI_API_KEY  # Replace with your inference API key\n",
    "    }\n",
    ")"
    "weaviate.Client(\n",
    "  url=WEAVIATE_URL,\n",
    "  auth_client_secret=auth_config,\n",
    "  additional_headers = {\n",
    "        \"X-OpenAI-Api-Key\": OPENAI_API_KEY  # Replace with your inference API key\n",
    "weaviate.Client(\n",
    "  url=WEAVIATE_URL,\n",
    "  auth_client_secret=weaviate.AuthApiKey(api_key=WEAVIATE_API_KEY),\n",
    "  additional_headers = {\n",
    "        \"X-OpenAI-Api-Key\": OPENAI_API_KEY  # Replace with your inference API key\n",
    "    }\n",
    ")"
   ]
  },
  {
   "cell_type": "code",
   "execution_count": 28,
   "id": "923e88d6",
   "metadata": {},
   "outputs": [
    {
     "name": "stderr",
    "    search_type=\"mmr\",  # Also test \"similarity\"\n",
    ")"
   ],
   "source": [
    "from langchain.embeddings.openai import OpenAIEmbeddings\n",
    "from langchain.vectorstores import Weaviate\n",
    "\n",
    "embeddings = OpenAIEmbeddings()\n",
    "\n",
    "db = Weaviate.from_documents(\n",
    "    embeddings, \n",
    "    by_text=False\n",
    ")\n",
    "retriever = db.as_retriever(\n",
    "    search_type=\"mmr\",  # Also test \"similarity\"\n",
    ")"
   ]
  }
 ],
 "metadata": {
  "kernelspec": {
   "display_name": "Python 3 (ipykernel)",
   "language": "python",
   "name": "python3"
  },
  "language_info": {
   "codemirror_mode": {
    "name": "ipython",
    "version": 3
   },
   "file_extension": ".py",
   "mimetype": "text/x-python",
   "name": "python",
   "nbconvert_exporter": "python",
   "pygments_lexer": "ipython3",
   "version": "3.11.5"
  }
